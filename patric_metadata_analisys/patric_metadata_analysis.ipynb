{
  "cells": [
    {
      "cell_type": "code",
      "execution_count": 2,
      "metadata": {
        "id": "gAopjTwTTc8y"
      },
      "outputs": [],
      "source": [
        "import pandas as pd\n",
        "\n",
        "\n",
        "#address of the BV-RC metadata\n",
        "file_path = \"BVBRC_genome_amr.csv\""
      ]
    },
    {
      "cell_type": "markdown",
      "metadata": {
        "id": "Hr2V4MwGWeRK"
      },
      "source": [
        "Reading the CSV file"
      ]
    },
    {
      "cell_type": "code",
      "execution_count": 3,
      "metadata": {
        "id": "pEkU2wUFTjFL"
      },
      "outputs": [],
      "source": [
        "# The unprocessed dataframe\n",
        "main_df = pd.read_csv(file_path)"
      ]
    },
    {
      "cell_type": "markdown",
      "metadata": {
        "id": "4AYim1mtWgT3"
      },
      "source": [
        "Exploring the number of experiments"
      ]
    },
    {
      "cell_type": "code",
      "execution_count": 4,
      "metadata": {
        "colab": {
          "base_uri": "https://localhost:8080/"
        },
        "id": "72Bs2Wx5WjCs",
        "outputId": "76081e8c-e01c-4c66-f225-26599185326b"
      },
      "outputs": [
        {
          "name": "stdout",
          "output_type": "stream",
          "text": [
            "Number of experiments: 303519\n"
          ]
        }
      ],
      "source": [
        "num_rows = main_df.shape[0]\n",
        "\n",
        "# Print the number of rows\n",
        "print(\"Number of experiments:\", num_rows)"
      ]
    },
    {
      "cell_type": "markdown",
      "metadata": {
        "id": "g9RBrTY42vGQ"
      },
      "source": [
        "Exploring the umber of Uniqe genomes in the BV-BRC MTB metadata"
      ]
    },
    {
      "cell_type": "code",
      "execution_count": 5,
      "metadata": {
        "colab": {
          "base_uri": "https://localhost:8080/"
        },
        "id": "IRkczLBL2FtT",
        "outputId": "5dd05336-0fea-42d4-b5f9-8850d8cda0a8"
      },
      "outputs": [
        {
          "name": "stdout",
          "output_type": "stream",
          "text": [
            "The total number of unique genome IDs in the initial BV-BRC metadata is: 27606\n"
          ]
        }
      ],
      "source": [
        "total_num_unique_genomes = main_df[\"Genome ID\"].nunique()\n",
        "\n",
        "print(\"The total number of unique genome IDs in the initial BV-BRC metadata is: {}\".format(total_num_unique_genomes))"
      ]
    },
    {
      "cell_type": "code",
      "execution_count": 6,
      "metadata": {
        "colab": {
          "base_uri": "https://localhost:8080/"
        },
        "id": "94itcCXpM5Me",
        "outputId": "51dba6d9-19ac-4430-d83a-949e4171f186"
      },
      "outputs": [
        {
          "name": "stdout",
          "output_type": "stream",
          "text": [
            "Unique Genome IDs have been written to Unique_Genome_IDs.txt.\n"
          ]
        }
      ],
      "source": [
        "# List of unique genomes\n",
        "unique_values = main_df['Genome ID'].unique()\n",
        "\n",
        "# Specify the file path for the stroing the list of unique genomes\n",
        "file_path = 'Unique_Genome_IDs.txt'\n",
        "\n",
        "# Write unique values to the text file\n",
        "with open(file_path, 'w') as file:\n",
        "\n",
        "    for i, value in enumerate(unique_values):\n",
        "\n",
        "      # Adding vertical space to all the lines except the first\n",
        "      # line so there wont be any empty lines at the end of text\n",
        "      # file for downloading data\n",
        "\n",
        "      if i!=0 :\n",
        "\n",
        "        file.write('\\n')\n",
        "\n",
        "      file.write(str(value))\n",
        "\n",
        "print(f\"Unique Genome IDs have been written to {file_path}.\")"
      ]
    },
    {
      "cell_type": "markdown",
      "metadata": {
        "id": "QumH-OAft0kT"
      },
      "source": [
        "## Sending the output to => PatricBrowserTools\n",
        "\n"
      ]
    },
    {
      "cell_type": "markdown",
      "metadata": {
        "id": "NipdWYD-Jod0"
      },
      "source": [
        "## Sort the dataframe based on genome ID\n",
        "### Creating a new organized csv file"
      ]
    },
    {
      "cell_type": "markdown",
      "metadata": {
        "id": "hon_3Ww7mzaE"
      },
      "source": [
        "### The reason for sorting the CSV file according to the genome ID is to decrease the computational complexity of creating the final csv file from quadratic in term of number of rows, to linear."
      ]
    },
    {
      "cell_type": "code",
      "execution_count": 7,
      "metadata": {
        "colab": {
          "base_uri": "https://localhost:8080/"
        },
        "id": "YXQYXSn9JnqD",
        "outputId": "2efc2ecf-2e9d-43fd-e6b1-3eea3bccc02e"
      },
      "outputs": [
        {
          "name": "stdout",
          "output_type": "stream",
          "text": [
            "DataFrame sorted and saved to 'sorted_file.csv'.\n"
          ]
        }
      ],
      "source": [
        "df_sorted = main_df.sort_values(by=['Genome ID', 'Antibiotic'])\n",
        "\n",
        "# Replace 'sorted_file.csv' with the desired output file name\n",
        "output_file_path = 'sorted_file.csv'\n",
        "\n",
        "#Adding NaN to the 'Laboratory Typing Method', 'Vendor' columns if not mentioned\n",
        "df_sorted[['Laboratory Typing Method', 'Vendor']] = df_sorted[['Laboratory Typing Method', 'Vendor']].applymap(lambda x: str(x) if pd.notna(x) and x != '' else 'NaN')\n",
        "\n",
        "# Save the sorted DataFrame to a CSV file\n",
        "df_sorted.to_csv(output_file_path, index=False)\n",
        "\n",
        "print(f\"DataFrame sorted and saved to '{output_file_path}'.\")\n"
      ]
    },
    {
      "cell_type": "markdown",
      "metadata": {
        "id": "oi34s1pHllOP"
      },
      "source": [
        "---------"
      ]
    },
    {
      "cell_type": "markdown",
      "metadata": {
        "id": "C4yjrODTskPF"
      },
      "source": [
        "#Creating a new CSV file to be used for Machine leaning and testign MTB++ v1"
      ]
    },
    {
      "cell_type": "code",
      "execution_count": 8,
      "metadata": {
        "id": "KypA0S8SsrXO"
      },
      "outputs": [],
      "source": [
        "# Storing all the genomes as a dictionary to organize who Metadata sheet and\n",
        "# creating a sheet that eachrow is about a specific genome ID, and columns are\n",
        "# the experiments wheather computational or Real lab tests (AST)\n",
        "\n",
        "# Assuming df_sorted is the initial dataframe\n",
        "genome_dict = {}\n",
        "\n",
        "for index, row in df_sorted.iterrows():\n",
        "\n",
        "    genome_id = row['Genome ID']\n",
        "\n",
        "    # Creating pheotypes by concatination name of antibiotic and method and\n",
        "    # vendor ( if method or vendor are empty, they will be considered as N/A\n",
        "    # in the list of phenotypes)\n",
        "\n",
        "    key = f\"{row['Antibiotic']}_{row['Laboratory Typing Method']}_{row['Vendor']}\"\n",
        "\n",
        "\n",
        "    #Result of each experiment\n",
        "    value = {row['Resistant Phenotype']} \n",
        "\n",
        "    if genome_id not in genome_dict:\n",
        "        # Dari harkat mikoni tooye dataframe sort shode, \n",
        "        # age be genome jadid barkhord kardy, the elemente\n",
        "        # jadid tooye dictionary misazi \n",
        "        genome_dict[genome_id] = {}\n",
        "\n",
        "    genome_dict[genome_id][key] = value"
      ]
    },
    {
      "cell_type": "markdown",
      "metadata": {
        "id": "mwn12jAH7xJ-"
      },
      "source": [
        "Organizaing the dictionary as a dataframe to be saved for ML"
      ]
    },
    {
      "cell_type": "code",
      "execution_count": 9,
      "metadata": {
        "id": "Tp-ivKyfiGyO"
      },
      "outputs": [],
      "source": [
        "genomes_list = list(genome_dict)\n",
        "\n",
        "# estekhraje tamami phenotype ha momken tooye dataframe\n",
        "phenotypes = set()\n",
        "\n",
        "for _, inner_dict in genome_dict.items():\n",
        "    # tooye tamame klid haayeh genome_dict migarde ta \n",
        "    # harchi phenotype yekta voojood dare ro peyda kone!  \n",
        "    phenotypes.update(inner_dict.keys())\n",
        "\n",
        "Final_df = pd.DataFrame(columns=['Genome ID'] + list(phenotypes))\n",
        "\n",
        "# Add genome IDs to the \"Genome ID\" column\n",
        "Final_df['Genome ID'] = genomes_list\n"
      ]
    },
    {
      "cell_type": "code",
      "execution_count": 11,
      "metadata": {
        "id": "IsxndDfslFKm"
      },
      "outputs": [],
      "source": [
        "# Migarde tooye tamame genome ID haye daroon dictionary genome ID ta betoone \n",
        "# list tamme phenotype haro (klid haye dictionary) peyda kone\n",
        "for ID in genomes_list:\n",
        "\n",
        "  # tamame phenotype haye marboot be yek genome tooye list gharar migireh \n",
        "  # ta chek beshe va S ya R barashoon taieen beshe\n",
        "  list_of_phenotypes=list(genome_dict[ID].keys())\n",
        "\n",
        "  for pheno in list_of_phenotypes:\n",
        "    \n",
        "    Final_df.loc[Final_df['Genome ID'] == ID, pheno] = next(iter(genome_dict[ID][pheno]))\n",
        "    "
      ]
    },
    {
      "cell_type": "markdown",
      "metadata": {
        "id": "6FPh5f1nmX02"
      },
      "source": [
        "Sorting the columns alphabetically to make the csv file more readable for human eye"
      ]
    },
    {
      "cell_type": "code",
      "execution_count": 15,
      "metadata": {
        "id": "I2uEV79Npzax"
      },
      "outputs": [],
      "source": [
        "first_column = Final_df.iloc[:, :1]\n",
        "\n",
        "remaining_columns = Final_df.iloc[:, 1:].sort_index(axis=1)\n",
        "\n",
        "# Concatenate the first column with the sorted remaining columns\n",
        "df_sorted_sorted_columns = pd.concat([first_column, remaining_columns], axis=1)\n"
      ]
    },
    {
      "cell_type": "markdown",
      "metadata": {
        "id": "RiRvdZBptlP8"
      },
      "source": [
        "Storing the final dataframe"
      ]
    },
    {
      "cell_type": "code",
      "execution_count": 16,
      "metadata": {
        "id": "SD6hOUlKom3-"
      },
      "outputs": [],
      "source": [
        "df_sorted_sorted_columns.to_csv(\"ML_.csv\",index=False)"
      ]
    }
  ],
  "metadata": {
    "colab": {
      "provenance": []
    },
    "kernelspec": {
      "display_name": "Python 3",
      "name": "python3"
    },
    "language_info": {
      "name": "python"
    }
  },
  "nbformat": 4,
  "nbformat_minor": 0
}
